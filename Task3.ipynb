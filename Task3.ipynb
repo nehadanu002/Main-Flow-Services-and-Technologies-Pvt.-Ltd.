{
  "nbformat": 4,
  "nbformat_minor": 0,
  "metadata": {
    "colab": {
      "private_outputs": true,
      "provenance": [],
      "authorship_tag": "ABX9TyMuZZHzsEtl8QLLkR8JzafN",
      "include_colab_link": true
    },
    "kernelspec": {
      "name": "python3",
      "display_name": "Python 3"
    },
    "language_info": {
      "name": "python"
    }
  },
  "cells": [
    {
      "cell_type": "markdown",
      "metadata": {
        "id": "view-in-github",
        "colab_type": "text"
      },
      "source": [
        "<a href=\"https://colab.research.google.com/github/nehadanu002/Main-Flow-Services-and-Technologies-Pvt.-Ltd./blob/main/Task3.ipynb\" target=\"_parent\"><img src=\"https://colab.research.google.com/assets/colab-badge.svg\" alt=\"Open In Colab\"/></a>"
      ]
    },
    {
      "cell_type": "markdown",
      "source": [
        "Create a bar chart and a line chart using\n",
        "Matplotlib to visualize data from a Pandas\n",
        "DataFrame. Customize the charts with\n",
        "labels, titles, and legends.\n",
        "\n",
        "---\n",
        "\n"
      ],
      "metadata": {
        "id": "C0QCGFeIp7dU"
      }
    },
    {
      "cell_type": "code",
      "source": [
        "import pandas as pd\n",
        "import numpy as np\n",
        "import matplotlib.pyplot as plt\n",
        "\n"
      ],
      "metadata": {
        "id": "bSbmK50Lp-3b"
      },
      "execution_count": null,
      "outputs": []
    },
    {
      "cell_type": "code",
      "source": [
        "data = pd.read_csv('householdtask3.csv')"
      ],
      "metadata": {
        "id": "h6uaFBXaq4vk"
      },
      "execution_count": null,
      "outputs": []
    },
    {
      "cell_type": "code",
      "source": [
        "data.head(10)"
      ],
      "metadata": {
        "id": "3N0IB4pXr2if"
      },
      "execution_count": null,
      "outputs": []
    },
    {
      "cell_type": "code",
      "source": [
        "#Scatter plot between year against own column\n",
        "plt.scatter(data['year'], data['own'])\n",
        "\n",
        "#Adding title to the plot\n",
        "plt.title(\"Scatter Plot\")\n",
        "\n",
        "#Setting the x and y label\n",
        "plt.xlabel('year')\n",
        "plt.ylabel('own')\n",
        "\n",
        "#Showing the result\n",
        "plt.show()"
      ],
      "metadata": {
        "id": "ovGHnPGFsDbv"
      },
      "execution_count": null,
      "outputs": []
    },
    {
      "cell_type": "code",
      "source": [
        "#Line Chart\n",
        "plt.plot(data['year'])\n",
        "plt.plot(data['own'])\n",
        "\n",
        "#Adding title to the plot\n",
        "plt.title(\"Line Chart\")\n",
        "\n",
        "#Setting the x and y Label\n",
        "plt.xlabel('year')\n",
        "plt.ylabel('own')\n",
        "\n",
        "#Showing the result\n",
        "plt.show()"
      ],
      "metadata": {
        "id": "vCKK-HNusNcl"
      },
      "execution_count": null,
      "outputs": []
    },
    {
      "cell_type": "code",
      "source": [
        "#Bar chart or bar plot\n",
        "plt.bar(data['year'], data['own'])\n",
        "\n",
        "#Adding title to the plot\n",
        "plt.title(\"Bar Chart\")\n",
        "\n",
        "#Setting the x and y labels\n",
        "plt.xlabel('year')\n",
        "plt.ylabel('own')\n",
        "\n",
        "#Showing the chart\n",
        "plt.show()"
      ],
      "metadata": {
        "id": "9r-YxC6Zt13A"
      },
      "execution_count": null,
      "outputs": []
    },
    {
      "cell_type": "code",
      "source": [
        "#Histogram\n",
        "plt.hist(data['income'])\n",
        "\n",
        "plt.title(\"Histogram\")\n",
        "\n",
        "plt.show()"
      ],
      "metadata": {
        "id": "3TusQyLEtEYC"
      },
      "execution_count": null,
      "outputs": []
    }
  ]
}
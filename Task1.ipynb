{
  "nbformat": 4,
  "nbformat_minor": 0,
  "metadata": {
    "colab": {
      "private_outputs": true,
      "provenance": [],
      "authorship_tag": "ABX9TyNt+SG4Sxld/WREYU2Q4IgF",
      "include_colab_link": true
    },
    "kernelspec": {
      "name": "python3",
      "display_name": "Python 3"
    },
    "language_info": {
      "name": "python"
    }
  },
  "cells": [
    {
      "cell_type": "markdown",
      "metadata": {
        "id": "view-in-github",
        "colab_type": "text"
      },
      "source": [
        "<a href=\"https://colab.research.google.com/github/nehadanu002/Main-Flow-Services-and-Technologies-Pvt.-Ltd./blob/main/Task1.ipynb\" target=\"_parent\"><img src=\"https://colab.research.google.com/assets/colab-badge.svg\" alt=\"Open In Colab\"/></a>"
      ]
    },
    {
      "cell_type": "markdown",
      "source": [
        "Write a Python program to create a list, a\n",
        "dictionary, and a set. Perform basic operations\n",
        "like adding, removing, and modifying\n",
        "elements.\n",
        "\n",
        "---\n",
        "\n"
      ],
      "metadata": {
        "id": "v1tJai3IlJrv"
      }
    },
    {
      "cell_type": "code",
      "source": [
        "#Creating a list\n",
        "my_list = [1,2,3,4,5]\n",
        "\n",
        "#Adding an element to the list\n",
        "my_list.append(6)\n",
        "\n",
        "#Removing an element from the List\n",
        "my_list.remove(3)\n",
        "\n",
        "#Modifying an element in the list\n",
        "my_list[0] = 10\n",
        "\n",
        "print(\"Updated List:\", my_list)"
      ],
      "metadata": {
        "id": "QiFodr1vlLi_"
      },
      "execution_count": null,
      "outputs": []
    },
    {
      "cell_type": "code",
      "source": [
        "#Creating a dictionary\n",
        "my_dict = {'name' : 'John', 'age' : 25, 'city' : 'Delhi'}\n",
        "\n",
        "#Adding\n",
        "my_dict['gender'] = 'Male'\n",
        "\n",
        "#Removing\n",
        "del my_dict['age']\n",
        "\n",
        "#Modifying\n",
        "my_dict['city'] = 'Mumbai'\n",
        "\n",
        "print (\"Updated Dictionary:\", my_dict)"
      ],
      "metadata": {
        "id": "rS8oYFonmKsY"
      },
      "execution_count": null,
      "outputs": []
    },
    {
      "cell_type": "code",
      "source": [
        "#Creating a set\n",
        "my_set = {1,2,3,4,5}\n",
        "\n",
        "#Adding\n",
        "my_set.add(6)\n",
        "\n",
        "#Removing\n",
        "my_set.remove(3)\n",
        "\n",
        "#Modifying\n",
        "my_set.discard(1)\n",
        "my_set.add(10)\n",
        "\n",
        "print(\"Updated Set:\", my_set)"
      ],
      "metadata": {
        "id": "QzvlNEmhm_VR"
      },
      "execution_count": null,
      "outputs": []
    }
  ]
}
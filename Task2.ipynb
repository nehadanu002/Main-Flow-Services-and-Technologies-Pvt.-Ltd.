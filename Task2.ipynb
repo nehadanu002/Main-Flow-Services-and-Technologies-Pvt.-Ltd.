{
  "nbformat": 4,
  "nbformat_minor": 0,
  "metadata": {
    "colab": {
      "private_outputs": true,
      "provenance": [],
      "authorship_tag": "ABX9TyOQ6LPldVkdMaGqlSyFhuXv",
      "include_colab_link": true
    },
    "kernelspec": {
      "name": "python3",
      "display_name": "Python 3"
    },
    "language_info": {
      "name": "python"
    }
  },
  "cells": [
    {
      "cell_type": "markdown",
      "metadata": {
        "id": "view-in-github",
        "colab_type": "text"
      },
      "source": [
        "<a href=\"https://colab.research.google.com/github/nehadanu002/Main-Flow-Services-and-Technologies-Pvt.-Ltd./blob/main/Task2.ipynb\" target=\"_parent\"><img src=\"https://colab.research.google.com/assets/colab-badge.svg\" alt=\"Open In Colab\"/></a>"
      ]
    },
    {
      "cell_type": "markdown",
      "source": [
        "Load a CSV file into a Pandas\n",
        "DataFrame. Perform operations like\n",
        "filtering data based on conditions, handling\n",
        "missing values, and calculating summary\n",
        "statistics.\n",
        "\n",
        "---\n",
        "\n"
      ],
      "metadata": {
        "id": "7OMo3NNHWz9y"
      }
    },
    {
      "cell_type": "code",
      "source": [
        "import pandas as pd"
      ],
      "metadata": {
        "id": "4AMcieL1X-ov"
      },
      "execution_count": null,
      "outputs": []
    },
    {
      "cell_type": "code",
      "source": [
        "data = pd.read_csv('01.Data Cleaning and Preprocessing.csv')"
      ],
      "metadata": {
        "id": "-k-NwVYncAgT"
      },
      "execution_count": null,
      "outputs": []
    },
    {
      "cell_type": "code",
      "source": [
        "type(data)"
      ],
      "metadata": {
        "id": "MU0ITS_ydaqi"
      },
      "execution_count": null,
      "outputs": []
    },
    {
      "cell_type": "code",
      "source": [
        "pd.core.frame.DataFrame"
      ],
      "metadata": {
        "id": "9hECs1QrdhVO"
      },
      "execution_count": null,
      "outputs": []
    },
    {
      "cell_type": "code",
      "source": [
        "data.info() #concise summary"
      ],
      "metadata": {
        "id": "nQ3-COSJduvO"
      },
      "execution_count": null,
      "outputs": []
    },
    {
      "cell_type": "code",
      "source": [
        "data.describe() #descriptive statistics"
      ],
      "metadata": {
        "id": "-NMXqp46fEWZ"
      },
      "execution_count": null,
      "outputs": []
    },
    {
      "cell_type": "code",
      "source": [
        "data = data.drop_duplicates()\n",
        "data"
      ],
      "metadata": {
        "id": "KZG7ZibffXD3"
      },
      "execution_count": null,
      "outputs": []
    },
    {
      "cell_type": "code",
      "source": [
        "data.isnull()"
      ],
      "metadata": {
        "id": "dNoZNBllftFY"
      },
      "execution_count": null,
      "outputs": []
    },
    {
      "cell_type": "code",
      "source": [
        "data.isnull().sum() #total number of null values present in every column"
      ],
      "metadata": {
        "id": "O4nb53HJfxvl"
      },
      "execution_count": null,
      "outputs": []
    },
    {
      "cell_type": "code",
      "source": [
        "data.notnull()"
      ],
      "metadata": {
        "id": "kr3Qiwz2gRNB"
      },
      "execution_count": null,
      "outputs": []
    },
    {
      "cell_type": "code",
      "source": [
        "data.isnull().sum().sum()"
      ],
      "metadata": {
        "id": "KLm2OrfMgV4B"
      },
      "execution_count": null,
      "outputs": []
    },
    {
      "cell_type": "code",
      "source": [
        "data2 = data.fillna(value=0)\n",
        "data2"
      ],
      "metadata": {
        "id": "9eOJw2O8geUu"
      },
      "execution_count": null,
      "outputs": []
    },
    {
      "cell_type": "code",
      "source": [
        "data3 = data.fillna(method='pad')\n",
        "data3"
      ],
      "metadata": {
        "id": "Z0HxfrYFgx7A"
      },
      "execution_count": null,
      "outputs": []
    },
    {
      "cell_type": "code",
      "source": [
        "data4 = data.fillna(method='bfill')\n",
        "data4"
      ],
      "metadata": {
        "id": "0qntgCgQg729"
      },
      "execution_count": null,
      "outputs": []
    },
    {
      "cell_type": "code",
      "source": [
        "import numpy as np\n",
        "from scipy import stats"
      ],
      "metadata": {
        "id": "-DtZS2-9hO4s"
      },
      "execution_count": null,
      "outputs": []
    },
    {
      "cell_type": "code",
      "source": [
        "#detect the outliers using IQR\n",
        "data2.columns"
      ],
      "metadata": {
        "id": "HgIihQ1nhVZn"
      },
      "execution_count": null,
      "outputs": []
    },
    {
      "cell_type": "code",
      "source": [
        "data2.drop(['Observation'], axis=1, inplace=True)\n",
        "data2.columns"
      ],
      "metadata": {
        "id": "D9lsAvN4hotN"
      },
      "execution_count": null,
      "outputs": []
    },
    {
      "cell_type": "code",
      "source": [
        "Q1= data2.quantile(0.25)\n",
        "Q3= data2.quantile(0.75)\n",
        "IQR= Q3-Q1\n",
        "print(IQR)"
      ],
      "metadata": {
        "id": "U_vvTE78h9BF"
      },
      "execution_count": null,
      "outputs": []
    },
    {
      "cell_type": "code",
      "source": [
        "data2=data2[~((data2<(Q1-1.5*IQR))|(data2>(Q3+1.5*IQR))).any(axis=1)]\n",
        "data2"
      ],
      "metadata": {
        "id": "GlBjVw-MiQYg"
      },
      "execution_count": null,
      "outputs": []
    }
  ]
}